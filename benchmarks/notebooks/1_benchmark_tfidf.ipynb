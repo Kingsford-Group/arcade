{
 "cells": [
  {
   "cell_type": "markdown",
   "id": "21cff2ef-b830-4a55-883e-7b4048f10569",
   "metadata": {},
   "source": [
    "# Benchmarking a TFIDF Model\n",
    "> Sample code to run prediction and evaluate a TFIDF model"
   ]
  },
  {
   "cell_type": "code",
   "execution_count": null,
   "id": "2df0cc13-b755-4f47-ba05-3db9a2d96916",
   "metadata": {},
   "outputs": [],
   "source": [
    "import numpy as np\n",
    "import pandas as pd\n",
    "from tqdm import tqdm\n",
    "\n",
    "df_update = pd.read_csv(\"dataset_mRFP.csv\")\n",
    "df_update.head()\n",
    "sequence= df_update['Sequence'].values.tolist()"
   ]
  },
  {
   "cell_type": "code",
   "execution_count": null,
   "id": "16c82dfe-65df-457a-9438-a5609d92a187",
   "metadata": {},
   "outputs": [],
   "source": [
    "from utils.fragmentation import KmerFragmenter"
   ]
  },
  {
   "cell_type": "markdown",
   "id": "e91df60e-f87e-4f71-978f-1fc2009de66e",
   "metadata": {},
   "source": [
    "## Creating Fragments\n",
    "> Use helper functions provided in `utils`"
   ]
  },
  {
   "cell_type": "code",
   "execution_count": null,
   "id": "8caa7f2d-882e-4781-a11a-5ee7b7f9790b",
   "metadata": {},
   "outputs": [],
   "source": [
    "import sys\n",
    "\n",
    "sys.path.append(\"..\")"
   ]
  },
  {
   "cell_type": "code",
   "execution_count": null,
   "id": "ab16daa1-83de-4aff-9f90-77d17a6a13f4",
   "metadata": {},
   "outputs": [],
   "source": [
    "import numpy as np\n",
    "from utils.fragmentation import KmerFragmenter\n",
    "\n",
    "fragmenter = KmerFragmenter()\n",
    "sequences = df_update['Sequence'].values.tolist()\n",
    "y = df_update['Value'].values.tolist()\n",
    "fragments= fragmenter.split_words(sequences,3,1)"
   ]
  },
  {
   "cell_type": "code",
   "execution_count": null,
   "id": "d0150fc2-9642-400d-a94a-5b60a0150527",
   "metadata": {},
   "outputs": [],
   "source": [
    "import os\n",
    "os.getcwd()"
   ]
  },
  {
   "cell_type": "markdown",
   "id": "dbea8ef1-780f-42b2-a0d2-5307421c405f",
   "metadata": {},
   "source": [
    "## TFIDF\n",
    "> Uses `sklearn` code in the background"
   ]
  },
  {
   "cell_type": "code",
   "execution_count": null,
   "id": "4c1cf356-83ac-4597-8c7a-0e68879dfab8",
   "metadata": {},
   "outputs": [],
   "source": [
    "from utils.vectorizer import Vectorizer\n",
    "\n",
    "vector_space_embedder = Vectorizer()\n",
    "mod, docs_tfidf, vector_stack_tfidf= vector_space_embedder.create_tfidf_stack(fragments)"
   ]
  },
  {
   "cell_type": "markdown",
   "id": "5c55f356-ca3e-4403-98bc-d64bef1a7431",
   "metadata": {},
   "source": [
    "## Tuning setup\n",
    "> Perform gridsearch for optimal hyperparameter settings"
   ]
  },
  {
   "cell_type": "code",
   "execution_count": null,
   "id": "b16e7ebe-431b-49ec-9b4a-a762abc38113",
   "metadata": {},
   "outputs": [],
   "source": [
    "import numpy as np\n",
    "from sklearn.model_selection import GridSearchCV\n",
    "from sklearn.ensemble import RandomForestRegressor\n",
    "\n",
    "def tune_forest(y,vector_stack):\n",
    "    model = RandomForestRegressor(random_state=30)\n",
    "    param_grid = { \n",
    "                \"n_estimators\"      : [100, 150],\n",
    "                \"criterion\"         : [\"squared_error\", \"absolute_error\", \"poisson\"],\n",
    "                \"max_features\"      : [5,10],\n",
    "                \"max_depth\"         : [5,10, 20],\n",
    "                \"min_samples_split\" : [2, 4,10] ,\n",
    "                \"bootstrap\": [True, False]\n",
    "    }\n",
    "    grid_search = GridSearchCV(model, param_grid, n_jobs=-1, cv=5)\n",
    "    grid_search.fit(vector_stack, y)\n",
    "    return grid_search.best_params_"
   ]
  },
  {
   "cell_type": "code",
   "execution_count": null,
   "id": "ada1d519-ef32-4518-a495-7894ff554f2c",
   "metadata": {},
   "outputs": [],
   "source": [
    "tune_tfidf = tune_forest(y, vector_stack_tfidf)"
   ]
  },
  {
   "cell_type": "code",
   "execution_count": null,
   "id": "ff7e1db7-97e9-48e2-b39b-084a3ee76495",
   "metadata": {},
   "outputs": [],
   "source": [
    "tune_tfidf"
   ]
  },
  {
   "cell_type": "markdown",
   "id": "760869ec-c01b-4963-9d76-e75fed3cd3c3",
   "metadata": {},
   "source": [
    "## Benchmark system"
   ]
  },
  {
   "cell_type": "code",
   "execution_count": null,
   "id": "bdf05d0b-61a1-483a-8683-7261fc4bbca6",
   "metadata": {},
   "outputs": [],
   "source": [
    "from sklearn.ensemble import RandomForestRegressor\n",
    "from sklearn.metrics import mean_squared_error\n",
    "from sklearn.model_selection import train_test_split\n",
    "import pandas as pd\n",
    "import numpy as np\n",
    "from sklearn import preprocessing\n",
    "from scipy import stats\n",
    "\n",
    "def train_test_acc(X_train,y_train,model):\n",
    "    model.fit(X_train,y_train)\n",
    "    pred_values = model.predict(X_test)\n",
    "    \n",
    "    spr = stats.spearmanr(y_test, pred_values)[0]\n",
    "    acc = mean_squared_error(y_test, pred_values)\n",
    "    return acc, spr"
   ]
  },
  {
   "cell_type": "markdown",
   "id": "611936fa-8982-4340-bbb5-78555052bb07",
   "metadata": {},
   "source": [
    "## Experiment\n",
    "> Run multiple experiments with different seeds"
   ]
  },
  {
   "cell_type": "code",
   "execution_count": null,
   "id": "ec1011e6-fa81-44bf-b3c8-a8bb5438cf6f",
   "metadata": {},
   "outputs": [],
   "source": [
    "model_tfidf = RandomForestRegressor(**tune_tfidf)\n",
    "\n",
    "splt = 0.25\n",
    "k = 100\n",
    "df_marks = pd.DataFrame(columns=['name', 'acc','spr',\"k\"])\n",
    "row_list= []\n",
    "for run in tqdm(range(0,k)):\n",
    "    X_train, X_test, y_train, y_test = train_test_split(vector_stack_tfidf, y, test_size=splt,random_state=k)\n",
    "    acc, spr = train_test_acc(X_train,y_train,model=model_tfidf)\n",
    "    new_row = {'name':'rna_tfidf', 'acc':acc, 'spr':spr,'k':run}\n",
    "    row_list.append(new_row)\n",
    "    \n",
    "df_marks = pd.DataFrame(row_list)\n",
    "df = df_marks.pivot(index='k', columns='name', values='acc')\n",
    "df.head()"
   ]
  },
  {
   "cell_type": "code",
   "execution_count": null,
   "id": "83440ed8-da8e-42ec-9c14-21fa48f2f918",
   "metadata": {},
   "outputs": [],
   "source": [
    "df_acc = df_marks.pivot(index='k', columns='name', values='spr')\n",
    "df_acc.head()"
   ]
  },
  {
   "cell_type": "markdown",
   "id": "ade646cf-20ae-49a5-87bc-216d5a403168",
   "metadata": {},
   "source": [
    "## Plot the data"
   ]
  },
  {
   "cell_type": "code",
   "execution_count": null,
   "id": "2778034c-def3-4a07-a7f9-e8184dc26919",
   "metadata": {},
   "outputs": [],
   "source": [
    "import matplotlib.pyplot as plt\n",
    "plt.rcParams[\"figure.dpi\"] = 300\n",
    "df_acc.plot.kde(figsize=(2.5, 1.5),ylim=(0,60))"
   ]
  },
  {
   "cell_type": "code",
   "execution_count": null,
   "id": "9cca3ab4-fc13-4adf-956d-420b8f1827eb",
   "metadata": {},
   "outputs": [],
   "source": [
    "df_acc.describe()"
   ]
  },
  {
   "cell_type": "code",
   "execution_count": null,
   "id": "15bc971a-ded3-4f19-a37c-5fbfa6aa18fb",
   "metadata": {},
   "outputs": [],
   "source": [
    "df_loss = df_marks.pivot(index='k', columns='name', values='acc')\n",
    "df_loss.plot.kde(figsize=(5, 3), subplots=True,ylim=(0,200));"
   ]
  },
  {
   "cell_type": "code",
   "execution_count": null,
   "id": "9bdf54ff-3858-4fa8-9ab2-ed4e40e120d6",
   "metadata": {},
   "outputs": [],
   "source": [
    "df_loss.describe()"
   ]
  }
 ],
 "metadata": {
  "kernelspec": {
   "display_name": "Python (codonbert)",
   "language": "python",
   "name": "venv"
  },
  "language_info": {
   "codemirror_mode": {
    "name": "ipython",
    "version": 3
   },
   "file_extension": ".py",
   "mimetype": "text/x-python",
   "name": "python",
   "nbconvert_exporter": "python",
   "pygments_lexer": "ipython3",
   "version": "3.9.12"
  }
 },
 "nbformat": 4,
 "nbformat_minor": 5
}
