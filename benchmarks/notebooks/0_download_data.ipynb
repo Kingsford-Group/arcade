{
 "cells": [
  {
   "cell_type": "markdown",
   "id": "c4b45e30-dd48-477c-a9ab-b9b37145f4ad",
   "metadata": {},
   "source": [
    "# Sample data for Notebooks\n",
    "\n",
    "Data is obtained from the paper [Revealing determinants of translation efficiency via whole-gene codon randomization and machine learning](https://academic.oup.com/nar/article/51/5/2363/7016452)"
   ]
  },
  {
   "cell_type": "code",
   "execution_count": null,
   "id": "4abd3bb3-8a42-4d7b-9cdb-b18823ebb3c6",
   "metadata": {},
   "outputs": [],
   "source": [
    "!wget -O \"gkad035_supplemental_files.zip\" \"https://oup.silverchair-cdn.com/oup/backfile/Content_public/Journal/nar/51/5/10.1093_nar_gkad035/1/gkad035_supplemental_files.zip?Expires=1703616704&Signature=2RwEl9W2E2ZJni8YfydONkKVT-agWqUV18rx0gXPXRVftl5Hx4~rRaAQyzmBBKcWjskToqG~ny4td~FXrVbROdS7b-N~uA7CySQtrH9If1TZq6u1rGnBxwK3sauh61DgC24R36UVEMBF4-NkzwR-sHSuUnI4yu8N49RMjybRpbDrPauLOXDrfCUvd5i1LyieDIJ2nkEikdA2z9Q4BnYhMF4qH7Wzr5rLYtVot8wyLMPRp5VOX2dwof29BiZe4GiyM3REEpLia7ROVAJA-fYSPGbJja2Yf~vnwzrggjQY8j76W0nUOLZJN217HhNceD5dCyrOaVIW6MpztFowLsbveA__&Key-Pair-Id=APKAIE5G5CRDK6RD3PGA\"\n",
    "!unzip -o \"gkad035_supplemental_files.zip\""
   ]
  },
  {
   "cell_type": "markdown",
   "id": "740a2803-49ed-4ba5-95aa-1828c6a64c74",
   "metadata": {},
   "source": [
    "## Process data\n",
    "\n",
    "Transform into log values and save into `csv` format"
   ]
  },
  {
   "cell_type": "code",
   "execution_count": null,
   "id": "ce82a520-31f2-44f5-8ecc-a71aaf220964",
   "metadata": {},
   "outputs": [],
   "source": [
    "!pip3 install openpyxl\n",
    "import pandas as pd\n",
    "import numpy as np"
   ]
  },
  {
   "cell_type": "code",
   "execution_count": null,
   "id": "31da4ea3-dd6c-4a26-97ab-ff956df98425",
   "metadata": {},
   "outputs": [],
   "source": [
    "df = pd.read_excel(\"Supplementary Data.xlsx\", sheet_name=\"S2 Validated Data\")\n",
    "df[\"Value\"] = np.log(df[\"mRFP Mean Corrected\"])\n",
    "df[\"Sequence\"] = df[\"Sequence Data\"]\n",
    "df[[\"Sequence\", \"Value\"]].to_csv(\"dataset_mRFP.csv\")"
   ]
  }
 ],
 "metadata": {
  "kernelspec": {
   "display_name": "Python (codonbert)",
   "language": "python",
   "name": "venv"
  },
  "language_info": {
   "codemirror_mode": {
    "name": "ipython",
    "version": 3
   },
   "file_extension": ".py",
   "mimetype": "text/x-python",
   "name": "python",
   "nbconvert_exporter": "python",
   "pygments_lexer": "ipython3",
   "version": "3.9.12"
  }
 },
 "nbformat": 4,
 "nbformat_minor": 5
}
